{
 "cells": [
  {
   "cell_type": "code",
   "execution_count": 1,
   "id": "7b1e07cf",
   "metadata": {},
   "outputs": [],
   "source": [
    "import numpy"
   ]
  },
  {
   "cell_type": "code",
   "execution_count": 4,
   "id": "0f634862",
   "metadata": {},
   "outputs": [
    {
     "data": {
      "text/plain": [
       "'2.2.5'"
      ]
     },
     "execution_count": 4,
     "metadata": {},
     "output_type": "execute_result"
    }
   ],
   "source": [
    "numpy.__version__"
   ]
  },
  {
   "cell_type": "code",
   "execution_count": null,
   "id": "94fdee20",
   "metadata": {},
   "outputs": [],
   "source": [
    "def exp_rapida(x, y):\n",
    "    \"\"\"\n",
    "    Calcula x^y usando el algo de exponenciacion rapida\n",
    "    se rompe con y<0\n",
    "    \n",
    "    \"\"\"\n",
    "    z=1\n",
    "    while y!=0:\n",
    "        if y%2==1: # si y es impar \n",
    "            z*=x\n",
    "            y-=1\n",
    "        x*=x\n",
    "        y//=2\n",
    "    return z "
   ]
  },
  {
   "cell_type": "code",
   "execution_count": 10,
   "id": "7c6ba2ab",
   "metadata": {},
   "outputs": [
    {
     "data": {
      "text/plain": [
       "0.03125"
      ]
     },
     "execution_count": 10,
     "metadata": {},
     "output_type": "execute_result"
    }
   ],
   "source": [
    "2**(-5)"
   ]
  },
  {
   "cell_type": "code",
   "execution_count": 6,
   "id": "8a3e4ccd",
   "metadata": {},
   "outputs": [
    {
     "data": {
      "text/plain": [
       "16"
      ]
     },
     "execution_count": 6,
     "metadata": {},
     "output_type": "execute_result"
    }
   ],
   "source": [
    "exp_rapida(2, 4)"
   ]
  },
  {
   "cell_type": "code",
   "execution_count": 9,
   "id": "82f7df2b",
   "metadata": {},
   "outputs": [
    {
     "ename": "KeyboardInterrupt",
     "evalue": "",
     "output_type": "error",
     "traceback": [
      "\u001b[31m---------------------------------------------------------------------------\u001b[39m",
      "\u001b[31mKeyboardInterrupt\u001b[39m                         Traceback (most recent call last)",
      "\u001b[36mCell\u001b[39m\u001b[36m \u001b[39m\u001b[32mIn[9]\u001b[39m\u001b[32m, line 1\u001b[39m\n\u001b[32m----> \u001b[39m\u001b[32m1\u001b[39m \u001b[43mexp_rapida\u001b[49m\u001b[43m(\u001b[49m\u001b[32;43m2\u001b[39;49m\u001b[43m,\u001b[49m\u001b[43m \u001b[49m\u001b[43m-\u001b[49m\u001b[32;43m5\u001b[39;49m\u001b[43m)\u001b[49m\n",
      "\u001b[36mCell\u001b[39m\u001b[36m \u001b[39m\u001b[32mIn[5]\u001b[39m\u001b[32m, line 8\u001b[39m, in \u001b[36mexp_rapida\u001b[39m\u001b[34m(x, y)\u001b[39m\n\u001b[32m      6\u001b[39m \u001b[38;5;28;01mwhile\u001b[39;00m y!=\u001b[32m0\u001b[39m:\n\u001b[32m      7\u001b[39m     \u001b[38;5;28;01mif\u001b[39;00m y%\u001b[32m2\u001b[39m==\u001b[32m1\u001b[39m: \u001b[38;5;66;03m# si y es impar \u001b[39;00m\n\u001b[32m----> \u001b[39m\u001b[32m8\u001b[39m         \u001b[43mz\u001b[49m\u001b[43m*\u001b[49m\u001b[43m=\u001b[49m\u001b[43mx\u001b[49m\n\u001b[32m      9\u001b[39m         y-=\u001b[32m1\u001b[39m\n\u001b[32m     10\u001b[39m     x*=x\n",
      "\u001b[31mKeyboardInterrupt\u001b[39m: "
     ]
    }
   ],
   "source": [
    "exp_rapida(2, -5)"
   ]
  },
  {
   "cell_type": "markdown",
   "id": "14eb1622",
   "metadata": {},
   "source": [
    "# unittest es el paquete para armar todos estos tests. Tienen:\n",
    "    * TestCase\n",
    "    * TestSuite\n",
    "    "
   ]
  },
  {
   "cell_type": "code",
   "execution_count": null,
   "id": "5dc96466",
   "metadata": {},
   "outputs": [],
   "source": [
    "import unittest\n",
    "class TestStringMethods(unittest.TestCase):\n",
    "    def test_upper(self):\n",
    "        self.assertEqual(\"foo\".upper(), \"FOO\")"
   ]
  },
  {
   "cell_type": "code",
   "execution_count": 3,
   "id": "6a1d8307",
   "metadata": {},
   "outputs": [
    {
     "name": "stderr",
     "output_type": "stream",
     "text": [
      "usage: ipykernel_launcher.py [-h] [-v] [-q] [--locals] [--durations N] [-f]\n",
      "                             [-c] [-b] [-k TESTNAMEPATTERNS]\n",
      "                             [tests ...]\n",
      "ipykernel_launcher.py: error: argument -f/--failfast: ignored explicit argument 'c:\\\\Users\\\\Maria\\\\AppData\\\\Roaming\\\\jupyter\\\\runtime\\\\kernel-v30e1d11ea27a79e1b83520c4f09d000db99e6d038.json'\n"
     ]
    },
    {
     "ename": "SystemExit",
     "evalue": "2",
     "output_type": "error",
     "traceback": [
      "An exception has occurred, use %tb to see the full traceback.\n",
      "\u001b[31mSystemExit\u001b[39m\u001b[31m:\u001b[39m 2\n"
     ]
    },
    {
     "name": "stderr",
     "output_type": "stream",
     "text": [
      "c:\\Users\\Maria\\Documents\\MIA_UDESA_VIDAL\\PROGRAMACION\\ejs_clase\\venv\\Lib\\site-packages\\IPython\\core\\interactiveshell.py:3675: UserWarning: To exit: use 'exit', 'quit', or Ctrl-D.\n",
      "  warn(\"To exit: use 'exit', 'quit', or Ctrl-D.\", stacklevel=1)\n"
     ]
    }
   ],
   "source": [
    "# Ejercicio 1: Invertir una lista\n",
    "from semana_02 import invertir_lista, collatz, contar_definiciones, cantidad_de_claves_letra, propagar\n",
    "import unittest\n",
    "\n",
    "class TestInvertirLista(unittest.TestCase):\n",
    "\n",
    "    def test_lista_vacia(self):\n",
    "        self.assertEqual(invertir_lista([]), [])\n",
    "\n",
    "    def test_un_elemento(self):\n",
    "        self.assertEqual(invertir_lista([42]), [42])\n",
    "\n",
    "    def test_varios_elementos(self):\n",
    "        self.assertEqual(invertir_lista([1, 2, 3]), [3, 2, 1])\n",
    "\n",
    "    def test_elementos_repetidos(self):\n",
    "        self.assertEqual(invertir_lista([1, 2, 2, 3]), [3, 2, 2, 1])\n",
    "\n",
    "    def test_tipos_mixtos(self):\n",
    "        self.assertEqual(invertir_lista([1, \"a\", True]), [True, \"a\", 1])\n",
    "\n",
    "if __name__ == '__main__':\n",
    "    unittest.main()\n"
   ]
  }
 ],
 "metadata": {
  "kernelspec": {
   "display_name": "venv",
   "language": "python",
   "name": "python3"
  },
  "language_info": {
   "codemirror_mode": {
    "name": "ipython",
    "version": 3
   },
   "file_extension": ".py",
   "mimetype": "text/x-python",
   "name": "python",
   "nbconvert_exporter": "python",
   "pygments_lexer": "ipython3",
   "version": "3.12.10"
  }
 },
 "nbformat": 4,
 "nbformat_minor": 5
}
